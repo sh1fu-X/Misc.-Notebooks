{
 "cells": [
  {
   "cell_type": "code",
   "execution_count": 1,
   "metadata": {},
   "outputs": [],
   "source": [
    "import numpy as np\n",
    "from numpy import genfromtxt"
   ]
  },
  {
   "cell_type": "code",
   "execution_count": 2,
   "metadata": {},
   "outputs": [
    {
     "data": {
      "text/plain": [
       "array([[  3.6216 ,   8.6661 ,  -2.8073 ,  -0.44699,   0.     ],\n",
       "       [  4.5459 ,   8.1674 ,  -2.4586 ,  -1.4621 ,   0.     ],\n",
       "       [  3.866  ,  -2.6383 ,   1.9242 ,   0.10645,   0.     ],\n",
       "       ...,\n",
       "       [ -3.7503 , -13.4586 ,  17.5932 ,  -2.7771 ,   1.     ],\n",
       "       [ -3.5637 ,  -8.3827 ,  12.393  ,  -1.2823 ,   1.     ],\n",
       "       [ -2.5419 ,  -0.65804,   2.6842 ,   1.1952 ,   1.     ]])"
      ]
     },
     "execution_count": 2,
     "metadata": {},
     "output_type": "execute_result"
    }
   ],
   "source": [
    "data = genfromtxt('bank_note_data.txt',delimiter=',')\n",
    "data"
   ]
  },
  {
   "cell_type": "code",
   "execution_count": 3,
   "metadata": {},
   "outputs": [],
   "source": [
    "labels = data[:,4]"
   ]
  },
  {
   "cell_type": "code",
   "execution_count": 4,
   "metadata": {},
   "outputs": [
    {
     "data": {
      "text/plain": [
       "array([0., 0., 0., ..., 1., 1., 1.])"
      ]
     },
     "execution_count": 4,
     "metadata": {},
     "output_type": "execute_result"
    }
   ],
   "source": [
    "labels"
   ]
  },
  {
   "cell_type": "code",
   "execution_count": 7,
   "metadata": {},
   "outputs": [
    {
     "data": {
      "text/plain": [
       "array([[  3.6216 ,   8.6661 ,  -2.8073 ,  -0.44699],\n",
       "       [  4.5459 ,   8.1674 ,  -2.4586 ,  -1.4621 ],\n",
       "       [  3.866  ,  -2.6383 ,   1.9242 ,   0.10645],\n",
       "       ...,\n",
       "       [ -3.7503 , -13.4586 ,  17.5932 ,  -2.7771 ],\n",
       "       [ -3.5637 ,  -8.3827 ,  12.393  ,  -1.2823 ],\n",
       "       [ -2.5419 ,  -0.65804,   2.6842 ,   1.1952 ]])"
      ]
     },
     "execution_count": 7,
     "metadata": {},
     "output_type": "execute_result"
    }
   ],
   "source": [
    "features = data[:,:-1]\n",
    "features"
   ]
  },
  {
   "cell_type": "code",
   "execution_count": 8,
   "metadata": {},
   "outputs": [],
   "source": [
    "X = features\n",
    "y = labels"
   ]
  },
  {
   "cell_type": "code",
   "execution_count": 9,
   "metadata": {},
   "outputs": [],
   "source": [
    "from sklearn.model_selection import train_test_split"
   ]
  },
  {
   "cell_type": "code",
   "execution_count": 10,
   "metadata": {},
   "outputs": [],
   "source": [
    "X_train, X_test, y_train, y_test = train_test_split(X,y,test_size=0.2,random_state=42)"
   ]
  },
  {
   "cell_type": "code",
   "execution_count": 16,
   "metadata": {},
   "outputs": [
    {
     "data": {
      "text/plain": [
       "1097"
      ]
     },
     "execution_count": 16,
     "metadata": {},
     "output_type": "execute_result"
    }
   ],
   "source": [
    "len(X_train)"
   ]
  },
  {
   "cell_type": "code",
   "execution_count": 20,
   "metadata": {},
   "outputs": [
    {
     "data": {
      "text/plain": [
       "MinMaxScaler(copy=True, feature_range=(0, 1))"
      ]
     },
     "execution_count": 20,
     "metadata": {},
     "output_type": "execute_result"
    }
   ],
   "source": [
    "from sklearn.preprocessing import MinMaxScaler\n",
    "\n",
    "scaler = MinMaxScaler()\n",
    "\n",
    "#Fitting only train coz we dont want the scaler to peek into the test data and cheat \n",
    "scaler.fit(X_train)"
   ]
  },
  {
   "cell_type": "code",
   "execution_count": 21,
   "metadata": {},
   "outputs": [],
   "source": [
    "scaled_X_train = scaler.transform(X_train)\n",
    "scaled_X_test = scaler.transform(X_test)"
   ]
  },
  {
   "cell_type": "code",
   "execution_count": 22,
   "metadata": {},
   "outputs": [
    {
     "data": {
      "text/plain": [
       "1.0000000000000002"
      ]
     },
     "execution_count": 22,
     "metadata": {},
     "output_type": "execute_result"
    }
   ],
   "source": [
    "scaled_X_train.max()"
   ]
  },
  {
   "cell_type": "markdown",
   "metadata": {},
   "source": [
    "#### Building the network with keras. "
   ]
  },
  {
   "cell_type": "code",
   "execution_count": 24,
   "metadata": {},
   "outputs": [],
   "source": [
    "from keras.models import Sequential\n",
    "from keras.layers import Dense\n"
   ]
  },
  {
   "cell_type": "code",
   "execution_count": 26,
   "metadata": {},
   "outputs": [
    {
     "name": "stdout",
     "output_type": "stream",
     "text": [
      "Epoch 1/100\n",
      " - 0s - loss: 0.7410 - acc: 0.4403\n",
      "Epoch 2/100\n",
      " - 0s - loss: 0.7015 - acc: 0.4503\n",
      "Epoch 3/100\n",
      " - 0s - loss: 0.6762 - acc: 0.5415\n",
      "Epoch 4/100\n",
      " - 0s - loss: 0.6615 - acc: 0.5889\n",
      "Epoch 5/100\n",
      " - 0s - loss: 0.6511 - acc: 0.6472\n",
      "Epoch 6/100\n",
      " - 0s - loss: 0.6425 - acc: 0.6518\n",
      "Epoch 7/100\n",
      " - 0s - loss: 0.6347 - acc: 0.6518\n",
      "Epoch 8/100\n",
      " - 0s - loss: 0.6271 - acc: 0.6554\n",
      "Epoch 9/100\n",
      " - 0s - loss: 0.6197 - acc: 0.6600\n",
      "Epoch 10/100\n",
      " - 0s - loss: 0.6123 - acc: 0.6618\n",
      "Epoch 11/100\n",
      " - 0s - loss: 0.6050 - acc: 0.6773\n",
      "Epoch 12/100\n",
      " - 0s - loss: 0.5965 - acc: 0.6892\n",
      "Epoch 13/100\n",
      " - 0s - loss: 0.5883 - acc: 0.6846\n",
      "Epoch 14/100\n",
      " - 0s - loss: 0.5766 - acc: 0.6901\n",
      "Epoch 15/100\n",
      " - 0s - loss: 0.5629 - acc: 0.6937\n",
      "Epoch 16/100\n",
      " - 0s - loss: 0.5477 - acc: 0.7056\n",
      "Epoch 17/100\n",
      " - 0s - loss: 0.5326 - acc: 0.7165\n",
      "Epoch 18/100\n",
      " - 0s - loss: 0.5179 - acc: 0.7274\n",
      "Epoch 19/100\n",
      " - 0s - loss: 0.5021 - acc: 0.7539\n",
      "Epoch 20/100\n",
      " - 0s - loss: 0.4850 - acc: 0.7612\n",
      "Epoch 21/100\n",
      " - 0s - loss: 0.4684 - acc: 0.7785\n",
      "Epoch 22/100\n",
      " - 0s - loss: 0.4500 - acc: 0.7876\n",
      "Epoch 23/100\n",
      " - 0s - loss: 0.4328 - acc: 0.8040\n",
      "Epoch 24/100\n",
      " - 0s - loss: 0.4156 - acc: 0.8241\n",
      "Epoch 25/100\n",
      " - 0s - loss: 0.3995 - acc: 0.8377\n",
      "Epoch 26/100\n",
      " - 0s - loss: 0.3841 - acc: 0.8478\n",
      "Epoch 27/100\n",
      " - 0s - loss: 0.3686 - acc: 0.8560\n",
      "Epoch 28/100\n",
      " - 0s - loss: 0.3543 - acc: 0.8660\n",
      "Epoch 29/100\n",
      " - 0s - loss: 0.3402 - acc: 0.8760\n",
      "Epoch 30/100\n",
      " - 0s - loss: 0.3273 - acc: 0.8824\n",
      "Epoch 31/100\n",
      " - 0s - loss: 0.3148 - acc: 0.8897\n",
      "Epoch 32/100\n",
      " - 0s - loss: 0.3033 - acc: 0.8961\n",
      "Epoch 33/100\n",
      " - 0s - loss: 0.2921 - acc: 0.8988\n",
      "Epoch 34/100\n",
      " - 0s - loss: 0.2808 - acc: 0.9015\n",
      "Epoch 35/100\n",
      " - 0s - loss: 0.2710 - acc: 0.9052\n",
      "Epoch 36/100\n",
      " - 0s - loss: 0.2618 - acc: 0.9061\n",
      "Epoch 37/100\n",
      " - 0s - loss: 0.2520 - acc: 0.9088\n",
      "Epoch 38/100\n",
      " - 0s - loss: 0.2430 - acc: 0.9152\n",
      "Epoch 39/100\n",
      " - 0s - loss: 0.2346 - acc: 0.9198\n",
      "Epoch 40/100\n",
      " - 0s - loss: 0.2259 - acc: 0.9234\n",
      "Epoch 41/100\n",
      " - 0s - loss: 0.2185 - acc: 0.9316\n",
      "Epoch 42/100\n",
      " - 0s - loss: 0.2112 - acc: 0.9289\n",
      "Epoch 43/100\n",
      " - 0s - loss: 0.2034 - acc: 0.9380\n",
      "Epoch 44/100\n",
      " - 0s - loss: 0.1961 - acc: 0.9371\n",
      "Epoch 45/100\n",
      " - 0s - loss: 0.1887 - acc: 0.9407\n",
      "Epoch 46/100\n",
      " - 0s - loss: 0.1823 - acc: 0.9435\n",
      "Epoch 47/100\n",
      " - 0s - loss: 0.1758 - acc: 0.9462\n",
      "Epoch 48/100\n",
      " - 0s - loss: 0.1695 - acc: 0.9462\n",
      "Epoch 49/100\n",
      " - 0s - loss: 0.1648 - acc: 0.9490\n",
      "Epoch 50/100\n",
      " - 0s - loss: 0.1587 - acc: 0.9490\n",
      "Epoch 51/100\n",
      " - 0s - loss: 0.1538 - acc: 0.9508\n",
      "Epoch 52/100\n",
      " - 0s - loss: 0.1492 - acc: 0.9499\n",
      "Epoch 53/100\n",
      " - 0s - loss: 0.1450 - acc: 0.9535\n",
      "Epoch 54/100\n",
      " - 0s - loss: 0.1409 - acc: 0.9535\n",
      "Epoch 55/100\n",
      " - 0s - loss: 0.1361 - acc: 0.9562\n",
      "Epoch 56/100\n",
      " - 0s - loss: 0.1309 - acc: 0.9581\n",
      "Epoch 57/100\n",
      " - 0s - loss: 0.1268 - acc: 0.9572\n",
      "Epoch 58/100\n",
      " - 0s - loss: 0.1232 - acc: 0.9581\n",
      "Epoch 59/100\n",
      " - 0s - loss: 0.1191 - acc: 0.9572\n",
      "Epoch 60/100\n",
      " - 0s - loss: 0.1162 - acc: 0.9599\n",
      "Epoch 61/100\n",
      " - 0s - loss: 0.1123 - acc: 0.9590\n",
      "Epoch 62/100\n",
      " - 0s - loss: 0.1091 - acc: 0.9626\n",
      "Epoch 63/100\n",
      " - 0s - loss: 0.1061 - acc: 0.9644\n",
      "Epoch 64/100\n",
      " - 0s - loss: 0.1034 - acc: 0.9663\n",
      "Epoch 65/100\n",
      " - 0s - loss: 0.1004 - acc: 0.9690\n",
      "Epoch 66/100\n",
      " - 0s - loss: 0.0981 - acc: 0.9699\n",
      "Epoch 67/100\n",
      " - 0s - loss: 0.0951 - acc: 0.9717\n",
      "Epoch 68/100\n",
      " - 0s - loss: 0.0929 - acc: 0.9727\n",
      "Epoch 69/100\n",
      " - 0s - loss: 0.0904 - acc: 0.9717\n",
      "Epoch 70/100\n",
      " - 0s - loss: 0.0882 - acc: 0.9717\n",
      "Epoch 71/100\n",
      " - 0s - loss: 0.0856 - acc: 0.9717\n",
      "Epoch 72/100\n",
      " - 0s - loss: 0.0837 - acc: 0.9754\n",
      "Epoch 73/100\n",
      " - 0s - loss: 0.0821 - acc: 0.9745\n",
      "Epoch 74/100\n",
      " - 0s - loss: 0.0800 - acc: 0.9763\n",
      "Epoch 75/100\n",
      " - 0s - loss: 0.0777 - acc: 0.9790\n",
      "Epoch 76/100\n",
      " - 0s - loss: 0.0756 - acc: 0.9772\n",
      "Epoch 77/100\n",
      " - 0s - loss: 0.0737 - acc: 0.9827\n",
      "Epoch 78/100\n",
      " - 0s - loss: 0.0725 - acc: 0.9809\n",
      "Epoch 79/100\n",
      " - 0s - loss: 0.0704 - acc: 0.9818\n",
      "Epoch 80/100\n",
      " - 0s - loss: 0.0688 - acc: 0.9790\n",
      "Epoch 81/100\n",
      " - 0s - loss: 0.0672 - acc: 0.9818\n",
      "Epoch 82/100\n",
      " - 0s - loss: 0.0662 - acc: 0.9836\n",
      "Epoch 83/100\n",
      " - 0s - loss: 0.0643 - acc: 0.9827\n",
      "Epoch 84/100\n",
      " - 0s - loss: 0.0644 - acc: 0.9845\n",
      "Epoch 85/100\n",
      " - 0s - loss: 0.0616 - acc: 0.9845\n",
      "Epoch 86/100\n",
      " - 0s - loss: 0.0600 - acc: 0.9845\n",
      "Epoch 87/100\n",
      " - 0s - loss: 0.0597 - acc: 0.9836\n",
      "Epoch 88/100\n",
      " - 0s - loss: 0.0582 - acc: 0.9881\n",
      "Epoch 89/100\n",
      " - 0s - loss: 0.0566 - acc: 0.9863\n",
      "Epoch 90/100\n",
      " - 0s - loss: 0.0551 - acc: 0.9872\n",
      "Epoch 91/100\n",
      " - 0s - loss: 0.0542 - acc: 0.9918\n",
      "Epoch 92/100\n",
      " - 0s - loss: 0.0532 - acc: 0.9891\n",
      "Epoch 93/100\n",
      " - 0s - loss: 0.0519 - acc: 0.9909\n",
      "Epoch 94/100\n",
      " - 0s - loss: 0.0509 - acc: 0.9900\n",
      "Epoch 95/100\n",
      " - 0s - loss: 0.0493 - acc: 0.9909\n",
      "Epoch 96/100\n",
      " - 0s - loss: 0.0486 - acc: 0.9900\n",
      "Epoch 97/100\n",
      " - 0s - loss: 0.0483 - acc: 0.9918\n",
      "Epoch 98/100\n",
      " - 0s - loss: 0.0471 - acc: 0.9900\n",
      "Epoch 99/100\n",
      " - 0s - loss: 0.0455 - acc: 0.9936\n",
      "Epoch 100/100\n",
      " - 0s - loss: 0.0450 - acc: 0.9945\n"
     ]
    },
    {
     "data": {
      "text/plain": [
       "<keras.callbacks.History at 0x1489ee24828>"
      ]
     },
     "execution_count": 26,
     "metadata": {},
     "output_type": "execute_result"
    }
   ],
   "source": [
    "model = Sequential()\n",
    "\n",
    "model.add(Dense(4, input_dim = 4, activation='relu'))\n",
    "\n",
    "model.add(Dense(8, activation='relu'))\n",
    "#Final layer\n",
    "model.add(Dense(1,activation='sigmoid'))\n",
    "model.compile(loss='binary_crossentropy',optimizer='adam',metrics=['accuracy'])\n",
    "\n",
    "model.fit(scaled_X_train,y_train,epochs=100,verbose=2)\n"
   ]
  },
  {
   "cell_type": "code",
   "execution_count": 28,
   "metadata": {},
   "outputs": [
    {
     "data": {
      "text/plain": [
       "['loss', 'acc']"
      ]
     },
     "execution_count": 28,
     "metadata": {},
     "output_type": "execute_result"
    }
   ],
   "source": [
    "model.metrics_names"
   ]
  },
  {
   "cell_type": "code",
   "execution_count": 29,
   "metadata": {},
   "outputs": [],
   "source": [
    "from sklearn.metrics import confusion_matrix, classification_report"
   ]
  },
  {
   "cell_type": "code",
   "execution_count": 30,
   "metadata": {},
   "outputs": [],
   "source": [
    "predictions = model.predict_classes(scaled_X_test)"
   ]
  },
  {
   "cell_type": "code",
   "execution_count": 31,
   "metadata": {},
   "outputs": [
    {
     "data": {
      "text/plain": [
       "array([[145,   3],\n",
       "       [  3, 124]], dtype=int64)"
      ]
     },
     "execution_count": 31,
     "metadata": {},
     "output_type": "execute_result"
    }
   ],
   "source": [
    "confusion_matrix(y_test, predictions)"
   ]
  },
  {
   "cell_type": "code",
   "execution_count": 32,
   "metadata": {},
   "outputs": [
    {
     "name": "stdout",
     "output_type": "stream",
     "text": [
      "             precision    recall  f1-score   support\n",
      "\n",
      "        0.0       0.98      0.98      0.98       148\n",
      "        1.0       0.98      0.98      0.98       127\n",
      "\n",
      "avg / total       0.98      0.98      0.98       275\n",
      "\n"
     ]
    }
   ],
   "source": [
    "print(classification_report(y_test,predictions))"
   ]
  },
  {
   "cell_type": "code",
   "execution_count": 33,
   "metadata": {},
   "outputs": [],
   "source": [
    "model.save('newModel.h5')"
   ]
  },
  {
   "cell_type": "code",
   "execution_count": 34,
   "metadata": {},
   "outputs": [],
   "source": [
    "from keras.models import load_model"
   ]
  },
  {
   "cell_type": "code",
   "execution_count": 35,
   "metadata": {},
   "outputs": [],
   "source": [
    "newmodel2 = load_model('newModel.h5')"
   ]
  },
  {
   "cell_type": "code",
   "execution_count": 36,
   "metadata": {},
   "outputs": [
    {
     "data": {
      "text/plain": [
       "array([[0],\n",
       "       [1],\n",
       "       [0],\n",
       "       [0],\n",
       "       [0],\n",
       "       [0],\n",
       "       [0],\n",
       "       [0],\n",
       "       [0],\n",
       "       [0],\n",
       "       [1],\n",
       "       [1],\n",
       "       [0],\n",
       "       [1],\n",
       "       [0],\n",
       "       [1],\n",
       "       [1],\n",
       "       [1],\n",
       "       [1],\n",
       "       [1],\n",
       "       [0],\n",
       "       [0],\n",
       "       [1],\n",
       "       [0],\n",
       "       [1],\n",
       "       [0],\n",
       "       [0],\n",
       "       [1],\n",
       "       [0],\n",
       "       [0],\n",
       "       [1],\n",
       "       [0],\n",
       "       [0],\n",
       "       [1],\n",
       "       [1],\n",
       "       [0],\n",
       "       [1],\n",
       "       [1],\n",
       "       [1],\n",
       "       [0],\n",
       "       [0],\n",
       "       [1],\n",
       "       [1],\n",
       "       [0],\n",
       "       [1],\n",
       "       [1],\n",
       "       [1],\n",
       "       [0],\n",
       "       [0],\n",
       "       [1],\n",
       "       [0],\n",
       "       [0],\n",
       "       [0],\n",
       "       [0],\n",
       "       [0],\n",
       "       [1],\n",
       "       [0],\n",
       "       [0],\n",
       "       [0],\n",
       "       [0],\n",
       "       [1],\n",
       "       [0],\n",
       "       [1],\n",
       "       [0],\n",
       "       [0],\n",
       "       [0],\n",
       "       [0],\n",
       "       [0],\n",
       "       [0],\n",
       "       [1],\n",
       "       [1],\n",
       "       [0],\n",
       "       [1],\n",
       "       [0],\n",
       "       [1],\n",
       "       [0],\n",
       "       [0],\n",
       "       [1],\n",
       "       [1],\n",
       "       [1],\n",
       "       [1],\n",
       "       [0],\n",
       "       [1],\n",
       "       [0],\n",
       "       [0],\n",
       "       [0],\n",
       "       [0],\n",
       "       [1],\n",
       "       [1],\n",
       "       [0],\n",
       "       [0],\n",
       "       [0],\n",
       "       [1],\n",
       "       [1],\n",
       "       [0],\n",
       "       [1],\n",
       "       [1],\n",
       "       [0],\n",
       "       [0],\n",
       "       [0],\n",
       "       [1],\n",
       "       [0],\n",
       "       [0],\n",
       "       [0],\n",
       "       [1],\n",
       "       [0],\n",
       "       [0],\n",
       "       [1],\n",
       "       [1],\n",
       "       [1],\n",
       "       [1],\n",
       "       [1],\n",
       "       [0],\n",
       "       [1],\n",
       "       [1],\n",
       "       [1],\n",
       "       [0],\n",
       "       [1],\n",
       "       [1],\n",
       "       [0],\n",
       "       [1],\n",
       "       [0],\n",
       "       [1],\n",
       "       [0],\n",
       "       [0],\n",
       "       [0],\n",
       "       [1],\n",
       "       [1],\n",
       "       [0],\n",
       "       [1],\n",
       "       [1],\n",
       "       [0],\n",
       "       [0],\n",
       "       [0],\n",
       "       [0],\n",
       "       [0],\n",
       "       [1],\n",
       "       [0],\n",
       "       [0],\n",
       "       [1],\n",
       "       [0],\n",
       "       [0],\n",
       "       [1],\n",
       "       [0],\n",
       "       [1],\n",
       "       [0],\n",
       "       [1],\n",
       "       [1],\n",
       "       [1],\n",
       "       [0],\n",
       "       [1],\n",
       "       [1],\n",
       "       [1],\n",
       "       [0],\n",
       "       [1],\n",
       "       [0],\n",
       "       [1],\n",
       "       [0],\n",
       "       [0],\n",
       "       [0],\n",
       "       [1],\n",
       "       [1],\n",
       "       [1],\n",
       "       [1],\n",
       "       [1],\n",
       "       [0],\n",
       "       [1],\n",
       "       [0],\n",
       "       [0],\n",
       "       [0],\n",
       "       [0],\n",
       "       [0],\n",
       "       [0],\n",
       "       [1],\n",
       "       [0],\n",
       "       [0],\n",
       "       [1],\n",
       "       [1],\n",
       "       [0],\n",
       "       [0],\n",
       "       [0],\n",
       "       [0],\n",
       "       [1],\n",
       "       [0],\n",
       "       [1],\n",
       "       [0],\n",
       "       [1],\n",
       "       [1],\n",
       "       [0],\n",
       "       [0],\n",
       "       [1],\n",
       "       [0],\n",
       "       [0],\n",
       "       [1],\n",
       "       [1],\n",
       "       [1],\n",
       "       [1],\n",
       "       [0],\n",
       "       [0],\n",
       "       [1],\n",
       "       [1],\n",
       "       [1],\n",
       "       [0],\n",
       "       [0],\n",
       "       [1],\n",
       "       [1],\n",
       "       [1],\n",
       "       [1],\n",
       "       [0],\n",
       "       [0],\n",
       "       [0],\n",
       "       [0],\n",
       "       [0],\n",
       "       [0],\n",
       "       [0],\n",
       "       [0],\n",
       "       [0],\n",
       "       [0],\n",
       "       [1],\n",
       "       [1],\n",
       "       [1],\n",
       "       [1],\n",
       "       [1],\n",
       "       [0],\n",
       "       [1],\n",
       "       [0],\n",
       "       [0],\n",
       "       [1],\n",
       "       [1],\n",
       "       [1],\n",
       "       [1],\n",
       "       [0],\n",
       "       [1],\n",
       "       [0],\n",
       "       [1],\n",
       "       [1],\n",
       "       [1],\n",
       "       [1],\n",
       "       [0],\n",
       "       [0],\n",
       "       [0],\n",
       "       [1],\n",
       "       [0],\n",
       "       [1],\n",
       "       [1],\n",
       "       [1],\n",
       "       [0],\n",
       "       [0],\n",
       "       [0],\n",
       "       [0],\n",
       "       [0],\n",
       "       [0],\n",
       "       [1],\n",
       "       [0],\n",
       "       [0],\n",
       "       [0],\n",
       "       [0],\n",
       "       [0],\n",
       "       [1],\n",
       "       [1],\n",
       "       [0],\n",
       "       [0],\n",
       "       [0],\n",
       "       [1],\n",
       "       [1],\n",
       "       [0],\n",
       "       [1],\n",
       "       [0],\n",
       "       [1],\n",
       "       [1],\n",
       "       [1],\n",
       "       [1],\n",
       "       [0],\n",
       "       [1],\n",
       "       [0]])"
      ]
     },
     "execution_count": 36,
     "metadata": {},
     "output_type": "execute_result"
    }
   ],
   "source": [
    "newmodel2.predict_classes(scaled_X_test)"
   ]
  },
  {
   "cell_type": "code",
   "execution_count": null,
   "metadata": {},
   "outputs": [],
   "source": []
  }
 ],
 "metadata": {
  "kernelspec": {
   "display_name": "python-cvcourse",
   "language": "python",
   "name": "python3"
  },
  "language_info": {
   "codemirror_mode": {
    "name": "ipython",
    "version": 3
   },
   "file_extension": ".py",
   "mimetype": "text/x-python",
   "name": "python",
   "nbconvert_exporter": "python",
   "pygments_lexer": "ipython3",
   "version": "3.6.6"
  },
  "orig_nbformat": 4
 },
 "nbformat": 4,
 "nbformat_minor": 2
}
